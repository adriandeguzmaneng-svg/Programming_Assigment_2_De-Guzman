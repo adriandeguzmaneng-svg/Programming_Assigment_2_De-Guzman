{
 "cells": [
  {
   "cell_type": "markdown",
   "id": "90450362",
   "metadata": {},
   "source": [
    "Normalization Problem"
   ]
  },
  {
   "cell_type": "code",
   "execution_count": null,
   "id": "891e1f0e",
   "metadata": {},
   "outputs": [],
   "source": [
    "import numpy as np\n",
    "\n",
    "X = np.random.random((5,5))\n",
    "X_normalized = (X - X.mean())/ X.std()\n",
    "X_normalized\n",
    "np.save(\"X_normalized.npy\",X_normalized)\n",
    "X"
   ]
  },
  {
   "cell_type": "markdown",
   "id": "c01d2048-2ce5-44d8-998c-00c36022c921",
   "metadata": {},
   "source": [
    "import numpy as np\n",
    "num = list(range(1, 101))\n",
    "A = np.array(num)\n",
    "A = A ** 2\n",
    "A.reshape(10,10)\n",
    "div_by_3 = A[A % 3 == 0]\n",
    "np.save(\"div_by_3.npy\",div_by_3)\n",
    "div_by_3"
   ]
  }
 ],
 "metadata": {
  "kernelspec": {
   "display_name": "Python 3 (ipykernel)",
   "language": "python",
   "name": "python3"
  },
  "language_info": {
   "codemirror_mode": {
    "name": "ipython",
    "version": 3
   },
   "file_extension": ".py",
   "mimetype": "text/x-python",
   "name": "python",
   "nbconvert_exporter": "python",
   "pygments_lexer": "ipython3",
   "version": "3.13.5"
  }
 },
 "nbformat": 4,
 "nbformat_minor": 5
}

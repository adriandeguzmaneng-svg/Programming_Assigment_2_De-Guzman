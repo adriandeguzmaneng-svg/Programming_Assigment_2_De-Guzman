{
 "cells": [
  {
   "cell_type": "markdown",
   "id": "90450362",
   "metadata": {},
   "source": [
    "Normalization Problem"
   ]
  },
  {
   "cell_type": "code",
   "execution_count": 9,
   "id": "891e1f0e",
   "metadata": {},
   "outputs": [
    {
     "name": "stdout",
     "output_type": "stream",
     "text": [
      "Original Array: [[0.54811531 0.49864612 0.30170036 0.02911267 0.43615176]\n",
      " [0.18607019 0.46144242 0.98337424 0.11631463 0.9117624 ]\n",
      " [0.17902519 0.02547449 0.9622018  0.52795015 0.70137408]\n",
      " [0.29466849 0.16640342 0.34258922 0.9546579  0.96230486]\n",
      " [0.92097881 0.2216785  0.04521045 0.80514064 0.92409809]]\n",
      "\n",
      "Normalized Array: [[ 0.14213564 -0.00478679 -0.58971146 -1.39929103 -0.1903937 ]\n",
      " [-0.93313059 -0.11528098  1.43484527 -1.14030309  1.22215966]\n",
      " [-0.95405409 -1.41009635  1.37196359  0.08224555  0.59731088]\n",
      " [-0.61059596 -0.99154046 -0.46827244  1.34955837  1.37226969]\n",
      " [ 1.2495322  -0.82737466 -1.35148099  0.90549533  1.25879639]]\n"
     ]
    }
   ],
   "source": [
    "import numpy as np\n",
    "\n",
    "X = np.random.random((5,5))\n",
    "X_normalized = (X - X.mean())/ X.std()\n",
    "X_normalized\n",
    "np.save(\"X_normalized.npy\",X_normalized)\n",
    "print(\"Original Array:\",X)\n",
    "print()\n",
    "print(\"Normalized Array:\",X_normalized)"
   ]
  },
  {
   "cell_type": "markdown",
   "id": "d23f35e9-3654-41e7-bb11-cfffb5cb5afd",
   "metadata": {},
   "source": [
    "Divisible by 3 Problem"
   ]
  },
  {
   "cell_type": "code",
   "execution_count": 10,
   "id": "83e87476-63ef-4231-9741-58cabdb55392",
   "metadata": {},
   "outputs": [
    {
     "data": {
      "text/plain": [
       "array([   9,   36,   81,  144,  225,  324,  441,  576,  729,  900, 1089,\n",
       "       1296, 1521, 1764, 2025, 2304, 2601, 2916, 3249, 3600, 3969, 4356,\n",
       "       4761, 5184, 5625, 6084, 6561, 7056, 7569, 8100, 8649, 9216, 9801])"
      ]
     },
     "execution_count": 10,
     "metadata": {},
     "output_type": "execute_result"
    }
   ],
   "source": [
    "import numpy as np\n",
    "\n",
    "num = list(range(1, 101))\n",
    "A = np.array(num)\n",
    "A = A ** 2\n",
    "A.reshape(10,10)\n",
    "div_by_3 = A[A % 3 == 0]\n",
    "np.save(\"div_by_3.npy\",div_by_3)\n",
    "div_by_3"
   ]
  },
  {
   "cell_type": "code",
   "execution_count": null,
   "id": "0dee9bd6-1d69-46a5-8cb2-518da5e4e38c",
   "metadata": {},
   "outputs": [],
   "source": []
  }
 ],
 "metadata": {
  "kernelspec": {
   "display_name": "Python 3 (ipykernel)",
   "language": "python",
   "name": "python3"
  },
  "language_info": {
   "codemirror_mode": {
    "name": "ipython",
    "version": 3
   },
   "file_extension": ".py",
   "mimetype": "text/x-python",
   "name": "python",
   "nbconvert_exporter": "python",
   "pygments_lexer": "ipython3",
   "version": "3.13.5"
  }
 },
 "nbformat": 4,
 "nbformat_minor": 5
}

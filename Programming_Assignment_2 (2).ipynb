{
 "cells": [
  {
   "cell_type": "markdown",
   "id": "90450362",
   "metadata": {},
   "source": [
    "Normalization Problem"
   ]
  },
  {
   "cell_type": "code",
   "execution_count": null,
   "id": "891e1f0e",
   "metadata": {},
   "outputs": [],
   "source": [
    "import numpy as np\n",
    "\n",
    "X = np.random.random((5,5))\n",
    "X_normalized = (X - X.mean())/ X.std()\n",
    "X_normalized\n",
    "np.save(\"X_normalized.npy\",X_normalized)\n",
    "X"
   ]
  },
  {
   "cell_type": "markdown",
   "id": "d23f35e9-3654-41e7-bb11-cfffb5cb5afd",
   "metadata": {},
   "source": [
    "Divisible by 3 Problem"
   ]
  },
  {
   "cell_type": "code",
   "execution_count": null,
   "id": "83e87476-63ef-4231-9741-58cabdb55392",
   "metadata": {},
   "outputs": [],
   "source": [
    "import numpy as np\n",
    "\n",
    "num = list(range(1, 101))\n",
    "A = np.array(num)\n",
    "A = A ** 2\n",
    "A.reshape(10,10)\n",
    "div_by_3 = A[A % 3 == 0]\n",
    "np.save(\"div_by_3.npy\",div_by_3)\n",
    "div_by_3"
   ]
  },
  {
   "cell_type": "code",
   "execution_count": null,
   "id": "819a6099-e32c-4dcb-aa2e-38f9567e1012",
   "metadata": {},
   "outputs": [],
   "source": []
  }
 ],
 "metadata": {
  "kernelspec": {
   "display_name": "Python 3 (ipykernel)",
   "language": "python",
   "name": "python3"
  },
  "language_info": {
   "codemirror_mode": {
    "name": "ipython",
    "version": 3
   },
   "file_extension": ".py",
   "mimetype": "text/x-python",
   "name": "python",
   "nbconvert_exporter": "python",
   "pygments_lexer": "ipython3",
   "version": "3.13.5"
  }
 },
 "nbformat": 4,
 "nbformat_minor": 5
}
